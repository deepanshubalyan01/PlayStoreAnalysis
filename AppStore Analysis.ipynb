{
 "cells": [
  {
   "cell_type": "code",
   "execution_count": 2,
   "id": "c407d1cc",
   "metadata": {},
   "outputs": [],
   "source": [
    "import numpy as np \n",
    "import pandas as pd\n",
    "import matplotlib.pyplot as plt"
   ]
  },
  {
   "cell_type": "code",
   "execution_count": 4,
   "id": "3a43f3c0",
   "metadata": {},
   "outputs": [],
   "source": [
    "data1 = pd.read_csv(\"downloads/apps/playst1.csv\")\n",
    "data2 = pd.read_csv(\"downloads/apps/playst2.csv\")"
   ]
  },
  {
   "cell_type": "code",
   "execution_count": 3,
   "id": "b94f8f07",
   "metadata": {},
   "outputs": [
    {
     "data": {
      "text/html": [
       "<div>\n",
       "<style scoped>\n",
       "    .dataframe tbody tr th:only-of-type {\n",
       "        vertical-align: middle;\n",
       "    }\n",
       "\n",
       "    .dataframe tbody tr th {\n",
       "        vertical-align: top;\n",
       "    }\n",
       "\n",
       "    .dataframe thead th {\n",
       "        text-align: right;\n",
       "    }\n",
       "</style>\n",
       "<table border=\"1\" class=\"dataframe\">\n",
       "  <thead>\n",
       "    <tr style=\"text-align: right;\">\n",
       "      <th></th>\n",
       "      <th>App</th>\n",
       "      <th>Translated_Review</th>\n",
       "      <th>Sentiment</th>\n",
       "      <th>Sentiment_Polarity</th>\n",
       "      <th>Sentiment_Subjectivity</th>\n",
       "    </tr>\n",
       "  </thead>\n",
       "  <tbody>\n",
       "    <tr>\n",
       "      <th>0</th>\n",
       "      <td>10 Best Foods for You</td>\n",
       "      <td>I like eat delicious food. That's I'm cooking ...</td>\n",
       "      <td>Positive</td>\n",
       "      <td>1.00</td>\n",
       "      <td>0.533333</td>\n",
       "    </tr>\n",
       "    <tr>\n",
       "      <th>1</th>\n",
       "      <td>10 Best Foods for You</td>\n",
       "      <td>This help eating healthy exercise regular basis</td>\n",
       "      <td>Positive</td>\n",
       "      <td>0.25</td>\n",
       "      <td>0.288462</td>\n",
       "    </tr>\n",
       "    <tr>\n",
       "      <th>2</th>\n",
       "      <td>10 Best Foods for You</td>\n",
       "      <td>NaN</td>\n",
       "      <td>NaN</td>\n",
       "      <td>NaN</td>\n",
       "      <td>NaN</td>\n",
       "    </tr>\n",
       "    <tr>\n",
       "      <th>3</th>\n",
       "      <td>10 Best Foods for You</td>\n",
       "      <td>Works great especially going grocery store</td>\n",
       "      <td>Positive</td>\n",
       "      <td>0.40</td>\n",
       "      <td>0.875000</td>\n",
       "    </tr>\n",
       "    <tr>\n",
       "      <th>4</th>\n",
       "      <td>10 Best Foods for You</td>\n",
       "      <td>Best idea us</td>\n",
       "      <td>Positive</td>\n",
       "      <td>1.00</td>\n",
       "      <td>0.300000</td>\n",
       "    </tr>\n",
       "    <tr>\n",
       "      <th>...</th>\n",
       "      <td>...</td>\n",
       "      <td>...</td>\n",
       "      <td>...</td>\n",
       "      <td>...</td>\n",
       "      <td>...</td>\n",
       "    </tr>\n",
       "    <tr>\n",
       "      <th>64290</th>\n",
       "      <td>Houzz Interior Design Ideas</td>\n",
       "      <td>NaN</td>\n",
       "      <td>NaN</td>\n",
       "      <td>NaN</td>\n",
       "      <td>NaN</td>\n",
       "    </tr>\n",
       "    <tr>\n",
       "      <th>64291</th>\n",
       "      <td>Houzz Interior Design Ideas</td>\n",
       "      <td>NaN</td>\n",
       "      <td>NaN</td>\n",
       "      <td>NaN</td>\n",
       "      <td>NaN</td>\n",
       "    </tr>\n",
       "    <tr>\n",
       "      <th>64292</th>\n",
       "      <td>Houzz Interior Design Ideas</td>\n",
       "      <td>NaN</td>\n",
       "      <td>NaN</td>\n",
       "      <td>NaN</td>\n",
       "      <td>NaN</td>\n",
       "    </tr>\n",
       "    <tr>\n",
       "      <th>64293</th>\n",
       "      <td>Houzz Interior Design Ideas</td>\n",
       "      <td>NaN</td>\n",
       "      <td>NaN</td>\n",
       "      <td>NaN</td>\n",
       "      <td>NaN</td>\n",
       "    </tr>\n",
       "    <tr>\n",
       "      <th>64294</th>\n",
       "      <td>Houzz Interior Design Ideas</td>\n",
       "      <td>NaN</td>\n",
       "      <td>NaN</td>\n",
       "      <td>NaN</td>\n",
       "      <td>NaN</td>\n",
       "    </tr>\n",
       "  </tbody>\n",
       "</table>\n",
       "<p>64295 rows × 5 columns</p>\n",
       "</div>"
      ],
      "text/plain": [
       "                               App  \\\n",
       "0            10 Best Foods for You   \n",
       "1            10 Best Foods for You   \n",
       "2            10 Best Foods for You   \n",
       "3            10 Best Foods for You   \n",
       "4            10 Best Foods for You   \n",
       "...                            ...   \n",
       "64290  Houzz Interior Design Ideas   \n",
       "64291  Houzz Interior Design Ideas   \n",
       "64292  Houzz Interior Design Ideas   \n",
       "64293  Houzz Interior Design Ideas   \n",
       "64294  Houzz Interior Design Ideas   \n",
       "\n",
       "                                       Translated_Review Sentiment  \\\n",
       "0      I like eat delicious food. That's I'm cooking ...  Positive   \n",
       "1        This help eating healthy exercise regular basis  Positive   \n",
       "2                                                    NaN       NaN   \n",
       "3             Works great especially going grocery store  Positive   \n",
       "4                                           Best idea us  Positive   \n",
       "...                                                  ...       ...   \n",
       "64290                                                NaN       NaN   \n",
       "64291                                                NaN       NaN   \n",
       "64292                                                NaN       NaN   \n",
       "64293                                                NaN       NaN   \n",
       "64294                                                NaN       NaN   \n",
       "\n",
       "       Sentiment_Polarity  Sentiment_Subjectivity  \n",
       "0                    1.00                0.533333  \n",
       "1                    0.25                0.288462  \n",
       "2                     NaN                     NaN  \n",
       "3                    0.40                0.875000  \n",
       "4                    1.00                0.300000  \n",
       "...                   ...                     ...  \n",
       "64290                 NaN                     NaN  \n",
       "64291                 NaN                     NaN  \n",
       "64292                 NaN                     NaN  \n",
       "64293                 NaN                     NaN  \n",
       "64294                 NaN                     NaN  \n",
       "\n",
       "[64295 rows x 5 columns]"
      ]
     },
     "execution_count": 3,
     "metadata": {},
     "output_type": "execute_result"
    }
   ],
   "source": [
    "data1"
   ]
  },
  {
   "cell_type": "markdown",
   "id": "dd889463",
   "metadata": {},
   "source": [
    "# cleaning and molding data according to our needs"
   ]
  },
  {
   "cell_type": "code",
   "execution_count": 19,
   "id": "742f7528",
   "metadata": {
    "scrolled": true
   },
   "outputs": [
    {
     "name": "stderr",
     "output_type": "stream",
     "text": [
      "/var/folders/_2/8cjcwdq112z35lnq9zg_2zb80000gn/T/ipykernel_1308/233210853.py:3: FutureWarning: The default value of regex will change from True to False in a future version. In addition, single character regular expressions will *not* be treated as literal strings when regex=True.\n",
      "  data2.Installs = data2.Installs.str.replace(\"+\",\"\")\n",
      "/Library/Frameworks/Python.framework/Versions/3.10/lib/python3.10/site-packages/pandas/core/indexing.py:1732: SettingWithCopyWarning: \n",
      "A value is trying to be set on a copy of a slice from a DataFrame\n",
      "\n",
      "See the caveats in the documentation: https://pandas.pydata.org/pandas-docs/stable/user_guide/indexing.html#returning-a-view-versus-a-copy\n",
      "  self._setitem_single_block(indexer, value, name)\n",
      "/var/folders/_2/8cjcwdq112z35lnq9zg_2zb80000gn/T/ipykernel_1308/233210853.py:9: FutureWarning: The default value of regex will change from True to False in a future version. In addition, single character regular expressions will *not* be treated as literal strings when regex=True.\n",
      "  data2.Price =data2.Price.str.replace(\"$\" ,\"\")\n",
      "/var/folders/_2/8cjcwdq112z35lnq9zg_2zb80000gn/T/ipykernel_1308/233210853.py:20: FutureWarning: The default value of regex will change from True to False in a future version.\n",
      "  data2[\"Last Updated\"]=data2[\"Last Updated\"].str.replace(\"1.0.19\",\"1/10/2019\")\n"
     ]
    }
   ],
   "source": [
    "data2 =data2.drop_duplicates()\n",
    "\n",
    "data2.Installs = data2.Installs.str.replace(\"+\",\"\")    \n",
    "data2.Installs = data2.Installs.str.replace(\",\",\"\")    \n",
    "data2.Installs.loc[data2.Installs ==\"Free\"] = 0\n",
    "data2.Installs = data2.Installs.astype(\"int64\")\n",
    "\n",
    "\n",
    "data2.Price =data2.Price.str.replace(\"$\" ,\"\")\n",
    "data2.Price =data2.Price.str.replace(\"Everyone\" ,\"0\")\n",
    "data2.Price =data2.Price.astype(\"float64\")\n",
    "\n",
    "months =[\"January\",\"February\",\"March\",\"April\",\"May\" ,\"June\" ,\"July\",\"August\",\"September\",\"October\",\"November\",\"December\"]\n",
    "data2[\"Last Updated\"]=data2[\"Last Updated\"].str.replace(\", \" ,\"/\")\n",
    "data2[\"Last Updated\"]=data2[\"Last Updated\"].str.replace(\" \" ,\"/\")\n",
    "\n",
    "for i in range(len(months)):\n",
    "    data2[\"Last Updated\"]= data2[\"Last Updated\"].str.replace(months[i] ,str(i+1))\n",
    "        \n",
    "data2[\"Last Updated\"]=data2[\"Last Updated\"].str.replace(\"1.0.19\",\"1/10/2019\")\n",
    "data2[\"Last Updated\"]=pd.to_datetime(data2[\"Last Updated\"], format=\"%m/%d/%Y\")\n"
   ]
  },
  {
   "cell_type": "markdown",
   "id": "fc381797",
   "metadata": {},
   "source": [
    "# Top Genres "
   ]
  },
  {
   "cell_type": "code",
   "execution_count": 20,
   "id": "25c1077d",
   "metadata": {},
   "outputs": [],
   "source": [
    "gen_vs_ins =data2.groupby(\"Genres\").Installs.sum()\n",
    "gen_vs_ins_top = gen_vs_ins.nlargest(20)"
   ]
  },
  {
   "cell_type": "markdown",
   "id": "10ca562c",
   "metadata": {},
   "source": [
    "#### People spent most money on the following apps"
   ]
  },
  {
   "cell_type": "code",
   "execution_count": 21,
   "id": "68b4c35a",
   "metadata": {},
   "outputs": [],
   "source": [
    "notFree = data2.loc[data2.Price != 0].drop_duplicates()\n",
    "notFree[\"Earning\"] = data2.Price * data2.Installs \n",
    "notFree=notFree.drop_duplicates(\"App\")"
   ]
  },
  {
   "cell_type": "code",
   "execution_count": 22,
   "id": "b3c5726a",
   "metadata": {},
   "outputs": [],
   "source": [
    "App_Earning =notFree.loc[notFree.Earning.nlargest(10).index ,[\"App\", \"Earning\"]]"
   ]
  },
  {
   "cell_type": "markdown",
   "id": "8033518e",
   "metadata": {},
   "source": [
    "#### installs per catogery"
   ]
  },
  {
   "cell_type": "code",
   "execution_count": 23,
   "id": "b22feaed",
   "metadata": {},
   "outputs": [],
   "source": [
    "cat_vs_installs=data2.groupby(\"Category\").Installs.sum()\n",
    "cat_vs_installs_top10 =data2.groupby(\"Category\").Installs.sum().nlargest(10)"
   ]
  },
  {
   "cell_type": "markdown",
   "id": "83668f4b",
   "metadata": {},
   "source": [
    "#### best Genre game (most downloaded) , highest points\n"
   ]
  },
  {
   "cell_type": "code",
   "execution_count": 24,
   "id": "025a9f3f",
   "metadata": {},
   "outputs": [
    {
     "data": {
      "text/plain": [
       "'► MultiCraft ― Free Miner! 👍'"
      ]
     },
     "execution_count": 24,
     "metadata": {},
     "output_type": "execute_result"
    }
   ],
   "source": [
    "game_Cat =data2.loc[data2.Category ==\"GAME\"]\n",
    "topGame_genre =game_Cat.groupby(\"Genres\").Installs.sum().nlargest(20)\n",
    "\n",
    "game_Cat.max().App"
   ]
  },
  {
   "cell_type": "markdown",
   "id": "94d03cf4",
   "metadata": {},
   "source": [
    "####  best GenreCommunication(most downloaded)"
   ]
  },
  {
   "cell_type": "code",
   "execution_count": 25,
   "id": "cdd240a3",
   "metadata": {},
   "outputs": [
    {
     "data": {
      "text/plain": [
       "'哈哈姆特不EY'"
      ]
     },
     "execution_count": 25,
     "metadata": {},
     "output_type": "execute_result"
    }
   ],
   "source": [
    "comm_cat =data2.loc[data2.Category == \"COMMUNICATION\"]\n",
    "comm_cat.max().App"
   ]
  },
  {
   "cell_type": "code",
   "execution_count": 26,
   "id": "09bd3c62",
   "metadata": {},
   "outputs": [],
   "source": [
    "#data2.loc[data2.Reviews > data2.Reviews.mean() \n",
    "        "
   ]
  },
  {
   "cell_type": "markdown",
   "id": "6132055c",
   "metadata": {},
   "source": [
    "# Report"
   ]
  },
  {
   "cell_type": "markdown",
   "id": "1050992e",
   "metadata": {},
   "source": [
    "### Top 20 genre according to installs"
   ]
  },
  {
   "cell_type": "code",
   "execution_count": 27,
   "id": "623eb6cc",
   "metadata": {},
   "outputs": [
    {
     "data": {
      "image/png": "[encoded data removed]",
      "text/plain": [
       "<Figure size 1440x432 with 1 Axes>"
      ]
     },
     "metadata": {
      "needs_background": "light"
     },
     "output_type": "display_data"
    }
   ],
   "source": [
    "fig =plt.figure(figsize=(20,6))\n",
    "plt.xlabel(\"genre\" )\n",
    "plt.ylabel(\"Installs\")\n",
    "plt.title(\"Top 20 genre\")\n",
    "plt.plot(gen_vs_ins_top.index ,gen_vs_ins_top.values ,\"r.--\")\n",
    "fig.autofmt_xdate()"
   ]
  },
  {
   "cell_type": "markdown",
   "id": "6037e368",
   "metadata": {},
   "source": [
    "### Category vs installs"
   ]
  },
  {
   "cell_type": "code",
   "execution_count": 28,
   "id": "a486860f",
   "metadata": {},
   "outputs": [
    {
     "data": {
      "image/png": "[encoded data removed]",
      "text/plain": [
       "<Figure size 1008x432 with 1 Axes>"
      ]
     },
     "metadata": {
      "needs_background": "light"
     },
     "output_type": "display_data"
    }
   ],
   "source": [
    "fig = plt.figure(figsize=(14,6))\n",
    "plt.xlabel(\"Category\")\n",
    "plt.ylabel(\"Installs\")\n",
    "plt.plot(cat_vs_installs_top10.index ,cat_vs_installs_top10.values,\"b*--\")\n",
    "fig.autofmt_xdate()"
   ]
  },
  {
   "cell_type": "code",
   "execution_count": 29,
   "id": "58c052bc",
   "metadata": {},
   "outputs": [
    {
     "data": {
      "text/plain": [
       "Category\n",
       "1.9                              0\n",
       "ART_AND_DESIGN           124338100\n",
       "AUTO_AND_VEHICLES         53130211\n",
       "BEAUTY                    27197050\n",
       "BOOKS_AND_REFERENCE     1916469576\n",
       "BUSINESS                 863664865\n",
       "COMICS                    56086150\n",
       "COMMUNICATION          24152276251\n",
       "DATING                   206536107\n",
       "EDUCATION                533952000\n",
       "Name: Installs, dtype: int64"
      ]
     },
     "execution_count": 29,
     "metadata": {},
     "output_type": "execute_result"
    }
   ],
   "source": [
    "cat_vs_installs[:10]"
   ]
  },
  {
   "cell_type": "markdown",
   "id": "ad07a983",
   "metadata": {},
   "source": [
    "### Top Earnings Apps"
   ]
  },
  {
   "cell_type": "code",
   "execution_count": 30,
   "id": "c5331699",
   "metadata": {},
   "outputs": [
    {
     "data": {
      "text/html": [
       "<div>\n",
       "<style scoped>\n",
       "    .dataframe tbody tr th:only-of-type {\n",
       "        vertical-align: middle;\n",
       "    }\n",
       "\n",
       "    .dataframe tbody tr th {\n",
       "        vertical-align: top;\n",
       "    }\n",
       "\n",
       "    .dataframe thead th {\n",
       "        text-align: right;\n",
       "    }\n",
       "</style>\n",
       "<table border=\"1\" class=\"dataframe\">\n",
       "  <thead>\n",
       "    <tr style=\"text-align: right;\">\n",
       "      <th></th>\n",
       "      <th>App</th>\n",
       "      <th>Earning</th>\n",
       "    </tr>\n",
       "  </thead>\n",
       "  <tbody>\n",
       "    <tr>\n",
       "      <th>2241</th>\n",
       "      <td>Minecraft</td>\n",
       "      <td>69900000.0</td>\n",
       "    </tr>\n",
       "    <tr>\n",
       "      <th>5351</th>\n",
       "      <td>I am rich</td>\n",
       "      <td>39999000.0</td>\n",
       "    </tr>\n",
       "    <tr>\n",
       "      <th>5356</th>\n",
       "      <td>I Am Rich Premium</td>\n",
       "      <td>19999500.0</td>\n",
       "    </tr>\n",
       "    <tr>\n",
       "      <th>4034</th>\n",
       "      <td>Hitman Sniper</td>\n",
       "      <td>9900000.0</td>\n",
       "    </tr>\n",
       "    <tr>\n",
       "      <th>7417</th>\n",
       "      <td>Grand Theft Auto: San Andreas</td>\n",
       "      <td>6990000.0</td>\n",
       "    </tr>\n",
       "    <tr>\n",
       "      <th>2883</th>\n",
       "      <td>Facetune - For Free</td>\n",
       "      <td>5990000.0</td>\n",
       "    </tr>\n",
       "    <tr>\n",
       "      <th>5578</th>\n",
       "      <td>Sleep as Android Unlock</td>\n",
       "      <td>5990000.0</td>\n",
       "    </tr>\n",
       "    <tr>\n",
       "      <th>8804</th>\n",
       "      <td>DraStic DS Emulator</td>\n",
       "      <td>4990000.0</td>\n",
       "    </tr>\n",
       "    <tr>\n",
       "      <th>4367</th>\n",
       "      <td>I'm Rich - Trump Edition</td>\n",
       "      <td>4000000.0</td>\n",
       "    </tr>\n",
       "    <tr>\n",
       "      <th>4362</th>\n",
       "      <td>💎 I'm rich</td>\n",
       "      <td>3999900.0</td>\n",
       "    </tr>\n",
       "  </tbody>\n",
       "</table>\n",
       "</div>"
      ],
      "text/plain": [
       "                                App     Earning\n",
       "2241                      Minecraft  69900000.0\n",
       "5351                      I am rich  39999000.0\n",
       "5356              I Am Rich Premium  19999500.0\n",
       "4034                  Hitman Sniper   9900000.0\n",
       "7417  Grand Theft Auto: San Andreas   6990000.0\n",
       "2883            Facetune - For Free   5990000.0\n",
       "5578        Sleep as Android Unlock   5990000.0\n",
       "8804            DraStic DS Emulator   4990000.0\n",
       "4367       I'm Rich - Trump Edition   4000000.0\n",
       "4362                     💎 I'm rich   3999900.0"
      ]
     },
     "execution_count": 30,
     "metadata": {},
     "output_type": "execute_result"
    }
   ],
   "source": [
    "App_Earning"
   ]
  },
  {
   "cell_type": "markdown",
   "id": "6ac95a8b",
   "metadata": {},
   "source": [
    "# conclusion"
   ]
  },
  {
   "cell_type": "markdown",
   "id": "efd186a0",
   "metadata": {},
   "source": [
    "people installed the \"communication and games\" related apps the most.\n",
    "\n",
    "In the game category \"Arcade and Action\" gerne games were most downloaded games by the people, and \"MultiCraft ― Free Miner! \" of \"Word\" genre game was the most installed game.\n",
    "\n",
    "in communication catogery 哈哈姆特不EY  took the lead and was no. 1 communication app.\n",
    "\n",
    "the hightst selling app remained  \"💎 I'm rich\"  with the net revenue of $ 69900000.0 through subscription only ."
   ]
  },
  {
   "cell_type": "code",
   "execution_count": null,
   "id": "bcf20759",
   "metadata": {},
   "outputs": [],
   "source": []
  }
 ],
 "metadata": {
  "kernelspec": {
   "display_name": "Python 3 (ipykernel)",
   "language": "python",
   "name": "python3"
  },
  "language_info": {
   "codemirror_mode": {
    "name": "ipython",
    "version": 3
   },
   "file_extension": ".py",
   "mimetype": "text/x-python",
   "name": "python",
   "nbconvert_exporter": "python",
   "pygments_lexer": "ipython3",
   "version": "3.10.0"
  }
 },
 "nbformat": 4,
 "nbformat_minor": 5
}
